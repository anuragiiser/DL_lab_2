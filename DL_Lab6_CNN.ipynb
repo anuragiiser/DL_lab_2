{
  "metadata": {
    "kernelspec": {
      "display_name": "Python 3",
      "name": "python3"
    },
    "language_info": {
      "name": "python",
      "version": "3.10.12",
      "mimetype": "text/x-python",
      "codemirror_mode": {
        "name": "ipython",
        "version": 3
      },
      "pygments_lexer": "ipython3",
      "nbconvert_exporter": "python",
      "file_extension": ".py"
    },
    "kaggle": {
      "accelerator": "gpu",
      "dataSources": [],
      "dockerImageVersionId": 30919,
      "isInternetEnabled": true,
      "language": "python",
      "sourceType": "notebook",
      "isGpuEnabled": true
    },
    "colab": {
      "provenance": [],
      "gpuType": "T4"
    }
  },
  "nbformat_minor": 0,
  "nbformat": 4,
  "cells": [
    {
      "cell_type": "markdown",
      "source": [
        "# Import Libraries"
      ],
      "metadata": {
        "execution": {
          "iopub.status.busy": "2025-03-03T18:25:07.258487Z",
          "iopub.execute_input": "2025-03-03T18:25:07.258806Z",
          "iopub.status.idle": "2025-03-03T18:25:07.266731Z",
          "shell.execute_reply.started": "2025-03-03T18:25:07.258784Z",
          "shell.execute_reply": "2025-03-03T18:25:07.265866Z"
        },
        "id": "BpuBr62Nonz_"
      }
    },
    {
      "cell_type": "code",
      "source": [
        "import numpy as np\n",
        "from sklearn.datasets import load_digits\n",
        "from sklearn.model_selection import train_test_split\n",
        "from sklearn.preprocessing import OneHotEncoder\n",
        "import matplotlib.pyplot as plt\n",
        "\n",
        "import torch\n",
        "import torch.nn as nn\n",
        "import torch.optim as optim\n",
        "from sklearn.metrics import accuracy_score, precision_score, recall_score, confusion_matrix"
      ],
      "metadata": {
        "id": "Adr82dGh-x8C"
      },
      "execution_count": null,
      "outputs": []
    },
    {
      "cell_type": "markdown",
      "source": [
        "# Define CNN Layers"
      ],
      "metadata": {
        "id": "6ZDcCMvn-_Ex"
      }
    },
    {
      "cell_type": "code",
      "source": [
        "class Conv2D:\n",
        "    def __init__(self, in_channels, out_channels, kernel_size, stride=1, padding=0):\n",
        "        self.in_channels = in_channels\n",
        "        self.out_channels = out_channels\n",
        "        self.kernel_size = kernel_size\n",
        "        self.stride = stride\n",
        "        self.padding = padding\n",
        "\n",
        "        # Initialization for weights: Helps with proper gradient flow\n",
        "        self.weights = np.random.randn(out_channels, in_channels, kernel_size, kernel_size) * np.sqrt(2.0 / (in_channels * kernel_size * kernel_size))\n",
        "        self.bias = np.zeros(out_channels)\n",
        "\n",
        "    # Forward Pass: Computes the output feature map after applying convolution.\n",
        "    def forward(self, x):\n",
        "        # Get input dimensions\n",
        "        batch_size, in_channels, height, width = x.shape\n",
        "        # Apply padding: Adds zeros around the input feature map\n",
        "        padded_x = np.pad(x, ((0, 0), (0, 0), (self.padding, self.padding), (self.padding, self.padding)), mode='constant')\n",
        "        # Compute output dimensions based on convolution formula\n",
        "        out_height = (height + 2 * self.padding - self.kernel_size) // self.stride + 1\n",
        "        out_width = (width + 2 * self.padding - self.kernel_size) // self.stride + 1\n",
        "        # Initialize output tensor with zeros\n",
        "        output = np.zeros((batch_size, self.out_channels, out_height, out_width))\n",
        "\n",
        "        # Perform convolution operation\n",
        "        for b in range(batch_size):  # Iterate over batch\n",
        "            for oc in range(self.out_channels):  # Iterate over output channels (filters)\n",
        "                for oh in range(out_height):  # Iterate over output height\n",
        "                    for ow in range(out_width):  # Iterate over output width\n",
        "                        # Define region of interest in the input\n",
        "                        h_start = oh * self.stride\n",
        "                        h_end = h_start + self.kernel_size\n",
        "                        w_start = ow * self.stride\n",
        "                        w_end = w_start + self.kernel_size\n",
        "\n",
        "                        # Perform element-wise multiplication between filter and input region\n",
        "                        # Sum the values and add bias\n",
        "                        output[b, oc, oh, ow] = np.sum(padded_x[b, :, h_start:h_end, w_start:w_end] * self.weights[oc]) + self.bias[oc]\n",
        "\n",
        "        # Store input for use in backpropagation\n",
        "        self.x = padded_x\n",
        "        return output\n",
        "\n",
        "    # Backward Pass: Computes gradients of weights and biases\n",
        "    def backward(self, grad_output, learning_rate):\n",
        "        # grad_output: Gradient of loss with respect to output of this layer (batch_size, out_channels, out_height, out_width)\n",
        "        batch_size, out_channels, out_height, out_width = grad_output.shape\n",
        "\n",
        "        # Initialize gradients for weights, bias, and input\n",
        "        grad_weights = np.zeros_like(self.weights)  # Gradient w.r.t weights\n",
        "        grad_bias = np.zeros_like(self.bias)  # Gradient w.r.t bias\n",
        "        grad_input = np.zeros_like(self.x)  # Gradient w.r.t input\n",
        "\n",
        "        # Compute gradients\n",
        "        for b in range(batch_size):  # Iterate over batch\n",
        "            for oc in range(out_channels):  # Iterate over output channels\n",
        "                for oh in range(out_height):  # Iterate over output height\n",
        "                    for ow in range(out_width):  # Iterate over output width\n",
        "                        # Define region of interest in the padded input\n",
        "                        h_start = oh * self.stride\n",
        "                        h_end = h_start + self.kernel_size\n",
        "                        w_start = ow * self.stride\n",
        "                        w_end = w_start + self.kernel_size\n",
        "\n",
        "                        # Compute gradient of weights (dL/dW)\n",
        "                        # grad_output[b, oc, oh, ow] represents how much the output at (oh, ow) affects the loss\n",
        "                        grad_weights[oc] += grad_output[b, oc, oh, ow] * self.x[b, :, h_start:h_end, w_start:w_end]\n",
        "\n",
        "                        # Compute gradient of bias (dL/db)\n",
        "                        grad_bias[oc] += grad_output[b, oc, oh, ow]\n",
        "\n",
        "                        # Compute gradient of input (dL/dX)\n",
        "                        # Identify the input region that contributed to this output pixel.\n",
        "                        # Distribute the gradient back to this region by multiplying the filter weights by grad_output[b, oc, oh, ow]\n",
        "                        # The update added to grad_input at this region:\n",
        "                        grad_input[b, :, h_start:h_end, w_start:w_end] += grad_output[b, oc, oh, ow] * self.weights[oc]\n",
        "\n",
        "        # Update weights and bias using gradient descent\n",
        "        self.weights -= learning_rate * grad_weights\n",
        "        self.bias -= learning_rate * grad_bias\n",
        "\n",
        "        # Return the gradient of input after removing padding\n",
        "        return grad_input[:, :, self.padding:self.x.shape[2]-self.padding, self.padding:self.x.shape[3]-self.padding]\n",
        "\n",
        "class ReLU:\n",
        "    # Forward Pass: Applies the ReLU activation function element-wise.\n",
        "    def forward(self, x):\n",
        "        self.x = x  # Store input for use in backward pass\n",
        "        return np.maximum(0, x)  # Apply ReLU: max(0, x)\n",
        "\n",
        "    # Backward Pass: Computes the gradient of the loss w.r.t the input.\n",
        "    def backward(self, grad_output, learning_rate):\n",
        "        return grad_output * (self.x > 0)  # Gradient is 1 where x > 0, otherwise 0\n",
        "\n",
        "\n",
        "class MaxPool2D:\n",
        "    def __init__(self, pool_size=2, stride=2):\n",
        "        self.pool_size = pool_size  # Size of the pooling window\n",
        "        self.stride = stride  # Step size for the pooling operation\n",
        "\n",
        "    # Forward Pass: Applies max pooling to the input feature maps.\n",
        "    def forward(self, x):\n",
        "        # Extract input dimensions\n",
        "        batch_size, in_channels, height, width = x.shape\n",
        "\n",
        "        # Compute output dimensions after pooling\n",
        "        out_height = (height - self.pool_size) // self.stride + 1\n",
        "        out_width = (width - self.pool_size) // self.stride + 1\n",
        "\n",
        "        # Initialize output tensor with zeros\n",
        "        output = np.zeros((batch_size, in_channels, out_height, out_width))\n",
        "\n",
        "        # Apply max pooling operation\n",
        "        for b in range(batch_size):  # Iterate over batches\n",
        "            for ic in range(in_channels):  # Iterate over input channels\n",
        "                for oh in range(out_height):  # Iterate over output height\n",
        "                    for ow in range(out_width):  # Iterate over output width\n",
        "                        # Define pooling window boundaries\n",
        "                        h_start = oh * self.stride\n",
        "                        h_end = h_start + self.pool_size\n",
        "                        w_start = ow * self.stride\n",
        "                        w_end = w_start + self.pool_size\n",
        "\n",
        "                        # Perform max pooling by selecting the maximum value in the region\n",
        "                        output[b, ic, oh, ow] = np.max(x[b, ic, h_start:h_end, w_start:w_end])\n",
        "\n",
        "        # Store input for use in backward pass\n",
        "        self.x = x\n",
        "        return output\n",
        "\n",
        "    # Backward Pass: Computes the gradient of the loss w.r.t the input.\n",
        "    def backward(self, grad_output, learning_rate):\n",
        "        # grad_output: Gradient of loss w.r.t output of this layer (same shape as pooled output)\n",
        "        batch_size, in_channels, out_height, out_width = grad_output.shape # Extract dimensions\n",
        "\n",
        "        # Initialize gradient tensor with zeros\n",
        "        grad_input = np.zeros_like(self.x)\n",
        "\n",
        "        # Compute gradient propagation for max pooling\n",
        "        for b in range(batch_size):  # Iterate over batches\n",
        "            for ic in range(in_channels):  # Iterate over input channels\n",
        "                for oh in range(out_height):  # Iterate over output height\n",
        "                    for ow in range(out_width):  # Iterate over output width\n",
        "                        # Define pooling window boundaries\n",
        "                        h_start = oh * self.stride\n",
        "                        h_end = h_start + self.pool_size\n",
        "                        w_start = ow * self.stride\n",
        "                        w_end = w_start + self.pool_size\n",
        "\n",
        "                        # Extract the pooling region from input\n",
        "                        pool_region = self.x[b, ic, h_start:h_end, w_start:w_end]\n",
        "\n",
        "                        # Identify the max value in the pooling region\n",
        "                        max_val = np.max(pool_region)\n",
        "\n",
        "                        # Assign gradients only to the max value positions\n",
        "                        for ih in range(h_start, h_end):\n",
        "                            for iw in range(w_start, w_end):\n",
        "                                if self.x[b, ic, ih, iw] == max_val:\n",
        "                                    grad_input[b, ic, ih, iw] = grad_output[b, ic, oh, ow]\n",
        "                                else:\n",
        "                                    grad_input[b, ic, ih, iw] = 0  # Zero gradient for non-max elements\n",
        "\n",
        "        return grad_input\n",
        "\n",
        "\n",
        "# Forward Pass: Flattens a multi-dimensional input (excluding batch dimension) into a 1D vector.\n",
        "class Flatten:\n",
        "    def forward(self, x):\n",
        "        # Store original shape for use in the backward pass\n",
        "        self.shape = x.shape\n",
        "        return x.reshape(x.shape[0], -1)\n",
        "\n",
        "    # Backward Pass: Reshapes the gradient back to the original input shape.\n",
        "    def backward(self, grad_output, learning_rate):\n",
        "        # Reshape gradient back to the original input shape before flattening\n",
        "        return grad_output.reshape(self.shape)\n",
        "\n",
        "class Dense:\n",
        "    def __init__(self, in_features, out_features):\n",
        "        self.weights = np.random.randn(in_features, out_features) * np.sqrt(2.0 / in_features)\n",
        "        self.bias = np.zeros(out_features)  # Bias initialized to zeros\n",
        "\n",
        "    # Forward Pass: Computes the linear transformation `Wx + b`.\n",
        "    def forward(self, x):\n",
        "        self.x = x  # Store input for use in the backward pass\n",
        "        return np.dot(x, self.weights) + self.bias  # Matrix multiplication + bias\n",
        "\n",
        "    # Backward Pass: Computes gradients and updates weights using gradient descent.\n",
        "    def backward(self, grad_output, learning_rate):\n",
        "        # grad_output: Gradient of the loss w.r.t. the output\n",
        "        grad_weights = np.dot(self.x.T, grad_output)  # Compute gradient for weights\n",
        "        grad_bias = np.sum(grad_output, axis=0)  # Compute gradient for bias\n",
        "        grad_input = np.dot(grad_output, self.weights.T)  # Compute gradient for input\n",
        "\n",
        "        # Update weights and bias using gradient descent\n",
        "        self.weights -= learning_rate * grad_weights\n",
        "        self.bias -= learning_rate * grad_bias\n",
        "\n",
        "        return grad_input  # Pass gradients back to the previous layer\n",
        "\n",
        "\n",
        "class Softmax:\n",
        "    # Forward Pass: Computes the Softmax activation function.\n",
        "    def forward(self, x):\n",
        "        exp_x = np.exp(x - np.max(x, axis=1, keepdims=True))  # Subtract max for numerical stability\n",
        "        self.probs = exp_x / np.sum(exp_x, axis=1, keepdims=True)  # Normalize probabilities\n",
        "        return self.probs  # Each row represents a probability distribution\n",
        "\n",
        "    # Backward Pass: Computes the gradient of the loss w.r.t. the input.\n",
        "    def backward(self, grad_output, learning_rate):\n",
        "        return self.probs * grad_output - np.mean(self.probs * grad_output, axis=1, keepdims=True)"
      ],
      "metadata": {
        "id": "jsFBeb8O_DLi"
      },
      "execution_count": null,
      "outputs": []
    },
    {
      "cell_type": "markdown",
      "source": [
        "# Define CNN Model"
      ],
      "metadata": {
        "id": "nOrri3u1ALny"
      }
    },
    {
      "cell_type": "code",
      "source": [
        "import numpy as np\n",
        "\n",
        "class CNN:\n",
        "    def __init__(self):\n",
        "        self.layers = [\n",
        "            Conv2D(1, 4, 3, padding=1),   # Convolution layer (input: 1 channel, output: 4 channels)\n",
        "            ReLU(),                       # ReLU activation\n",
        "            MaxPool2D(),                  # Max pooling (default 2x2 stride)\n",
        "            Conv2D(4, 8, 3, padding=1),   # Convolution layer (input: 4 channels, output: 8 channels)\n",
        "            ReLU(),                       # ReLU activation\n",
        "            MaxPool2D(),                  # Max pooling (default 2x2 stride)\n",
        "            Flatten(),                    # Flatten layer to convert 2D feature maps to 1D vector\n",
        "            Dense(8 * 2 * 2, 10),         # Fully connected layer (input: flattened features, output: 10)\n",
        "            Softmax()                    # Softmax activation for classification\n",
        "        ]\n",
        "\n",
        "    # Performs a forward pass through all layers of the CNN.\n",
        "    def forward(self, x):\n",
        "        for layer in self.layers:\n",
        "            x = layer.forward(x)  # Pass input through each layer sequentially\n",
        "        return x\n",
        "\n",
        "    # Performs backpropagation through all layers in reverse order.\n",
        "    def backward(self, grad_output, learning_rate):\n",
        "        # grad_output: Gradient of loss w.r.t. output of the CNN\n",
        "        # learning_rate: Step size for weight updates\n",
        "        for layer in reversed(self.layers):\n",
        "            grad_output = layer.backward(grad_output, learning_rate)  # Backpropagate gradient through each layer\n",
        "\n",
        "    def train(self, x_train, y_train, x_val, y_val, epochs, learning_rate):\n",
        "        train_losses = []  # Stores training loss per epoch\n",
        "        val_losses = []    # Stores validation loss per epoch\n",
        "\n",
        "        for epoch in range(epochs):\n",
        "            epoch_train_loss = 0\n",
        "\n",
        "            # Training loop\n",
        "            for i in range(len(x_train)):\n",
        "                x = x_train[i].reshape(1, 1, 8, 8)  # Reshape to (batch_size=1, channels=1, height=8, width=8)\n",
        "                y = y_train[i].reshape(1, 10)  # One-hot encoded labels\n",
        "\n",
        "                output = self.forward(x)  # Forward pass\n",
        "                loss = -np.sum(y * np.log(output))  # Cross-entropy loss\n",
        "                epoch_train_loss += loss\n",
        "\n",
        "                grad_output = output - y  # Compute gradient of loss w.r.t. softmax output\n",
        "                self.backward(grad_output, learning_rate)  # Backpropagation\n",
        "\n",
        "            train_losses.append(epoch_train_loss / len(x_train))  # Average training loss per epoch\n",
        "\n",
        "            # Validation loop\n",
        "            epoch_val_loss = 0\n",
        "            for i in range(len(x_val)):\n",
        "                x = x_val[i].reshape(1, 1, 8, 8)\n",
        "                y = y_val[i].reshape(1, 10)\n",
        "\n",
        "                output = self.forward(x)  # Forward pass on validation set\n",
        "                loss = -np.sum(y * np.log(output))  # Cross-entropy loss\n",
        "                epoch_val_loss += loss\n",
        "\n",
        "            val_losses.append(epoch_val_loss / len(x_val))  # Average validation loss per epoch\n",
        "\n",
        "            # Print loss every 10 epochs\n",
        "            if epoch % 10 == 0:\n",
        "                print(f\"Epoch {epoch}, Train Loss: {train_losses[-1]:.4f}, Val Loss: {val_losses[-1]:.4f}\")\n",
        "\n",
        "        return train_losses, val_losses\n",
        "\n",
        "    def predict(self, x_test):\n",
        "        predictions = []\n",
        "        for i in range(len(x_test)):\n",
        "            x = x_test[i].reshape(1, 1, 8, 8)  # Reshape input image\n",
        "            output = self.forward(x)  # Forward pass\n",
        "            predictions.append(np.argmax(output))  # Get class with highest probability\n",
        "\n",
        "        return np.array(predictions)  # Return predictions as a NumPy array"
      ],
      "metadata": {
        "id": "fz3Q08TwANmh"
      },
      "execution_count": null,
      "outputs": []
    },
    {
      "cell_type": "markdown",
      "source": [
        "# Load Data"
      ],
      "metadata": {
        "id": "7Is69mRDAVLI"
      }
    },
    {
      "cell_type": "code",
      "source": [
        "digits = load_digits()\n",
        "X = digits.images\n",
        "y = digits.target\n",
        "X_train, X_test, y_train, y_test = train_test_split(X, y, test_size=0.15, random_state=42)\n",
        "X_train, X_val, y_train, y_val = train_test_split(X_train, y_train, test_size=0.15,random_state=42) # Split train to train and val\n",
        "\n",
        "print(len(y_train), len(y_val), len(y_test))\n",
        "\n",
        "encoder = OneHotEncoder(sparse_output=False)\n",
        "y_train_encoded = encoder.fit_transform(y_train.reshape(-1, 1))\n",
        "y_val_encoded = encoder.fit_transform(y_val.reshape(-1, 1))"
      ],
      "metadata": {
        "colab": {
          "base_uri": "https://localhost:8080/"
        },
        "id": "7W5BJh4FAisg",
        "outputId": "b40a4e2d-bc1f-4acf-a6fd-75cdbeb8d9d9"
      },
      "execution_count": null,
      "outputs": [
        {
          "output_type": "stream",
          "name": "stdout",
          "text": [
            "1297 230 270\n"
          ]
        }
      ]
    },
    {
      "cell_type": "code",
      "source": [
        "print(X_train.shape)\n",
        "print(y_train.shape)\n",
        "print(y_train_encoded.shape)"
      ],
      "metadata": {
        "colab": {
          "base_uri": "https://localhost:8080/"
        },
        "id": "GUjSGA34j13P",
        "outputId": "5378bbbb-738a-40d3-afad-75fdbad31dcb"
      },
      "execution_count": null,
      "outputs": [
        {
          "output_type": "stream",
          "name": "stdout",
          "text": [
            "(1297, 8, 8)\n",
            "(1297,)\n",
            "(1297, 10)\n"
          ]
        }
      ]
    },
    {
      "cell_type": "markdown",
      "source": [
        "# Visualize Some Samples"
      ],
      "metadata": {
        "id": "FlTr_f8PGvi7"
      }
    },
    {
      "cell_type": "code",
      "source": [
        "plt.figure(figsize=(10, 5))\n",
        "for i in range(10):\n",
        "    plt.subplot(2, 5, i + 1)\n",
        "    plt.imshow(X_train[i], cmap='gray')\n",
        "    plt.title(f\"Label: {y_train[i]}\")\n",
        "    plt.axis('off')\n",
        "plt.show()"
      ],
      "metadata": {
        "colab": {
          "base_uri": "https://localhost:8080/",
          "height": 402
        },
        "id": "rhtpAU7GGzAK",
        "outputId": "94730a0d-ee56-4c82-8722-baefdc11a616"
      },
      "execution_count": null,
      "outputs": [
        {
          "output_type": "display_data",
          "data": {
            "text/plain": [
              "<Figure size 1000x500 with 10 Axes>"
            ],
            "image/png": "[encoded data removed]"
          },
          "metadata": {}
        }
      ]
    },
    {
      "cell_type": "markdown",
      "source": [
        "# Train the CNN Model"
      ],
      "metadata": {
        "id": "psq74b23AyxY"
      }
    },
    {
      "cell_type": "code",
      "source": [
        "# Train the CNN\n",
        "cnn = CNN()\n",
        "train_losses, val_losses = cnn.train(X_train, y_train_encoded, X_val, y_val_encoded, epochs=100, learning_rate=0.01)"
      ],
      "metadata": {
        "colab": {
          "base_uri": "https://localhost:8080/"
        },
        "id": "7omGNsFYA48P",
        "outputId": "0102a77a-9101-43ad-910c-09d47eef6c69"
      },
      "execution_count": null,
      "outputs": [
        {
          "output_type": "stream",
          "name": "stdout",
          "text": [
            "Epoch 0, Train Loss: 2.0122, Val Loss: 1.7643\n",
            "Epoch 10, Train Loss: 0.3761, Val Loss: 0.4168\n",
            "Epoch 20, Train Loss: 0.2774, Val Loss: 0.3450\n",
            "Epoch 30, Train Loss: 0.1972, Val Loss: 0.4657\n",
            "Epoch 40, Train Loss: 0.1882, Val Loss: 0.3819\n",
            "Epoch 50, Train Loss: 0.2140, Val Loss: 0.2080\n",
            "Epoch 60, Train Loss: 0.1788, Val Loss: 0.3087\n",
            "Epoch 70, Train Loss: 0.1597, Val Loss: 0.2365\n",
            "Epoch 80, Train Loss: 0.1428, Val Loss: 0.3062\n",
            "Epoch 90, Train Loss: 0.0778, Val Loss: 0.2294\n"
          ]
        }
      ]
    },
    {
      "cell_type": "markdown",
      "source": [
        "# Plot Training and Validation Loss"
      ],
      "metadata": {
        "id": "lJMELmHWBI6X"
      }
    },
    {
      "cell_type": "code",
      "source": [
        "plt.plot(train_losses, label='Training Loss')\n",
        "plt.plot(val_losses, label='Validation Loss')\n",
        "plt.xlabel('Epoch')\n",
        "plt.ylabel('Loss')\n",
        "plt.title('Training and Validation Losses')\n",
        "plt.legend()\n",
        "plt.show()"
      ],
      "metadata": {
        "colab": {
          "base_uri": "https://localhost:8080/",
          "height": 472
        },
        "id": "Gd8ASserBV7n",
        "outputId": "9b027256-73e9-4691-cace-33d4a3b48d0f"
      },
      "execution_count": null,
      "outputs": [
        {
          "output_type": "display_data",
          "data": {
            "text/plain": [
              "<Figure size 640x480 with 1 Axes>"
            ],
            "image/png": "[encoded data removed]"
          },
          "metadata": {}
        }
      ]
    },
    {
      "cell_type": "markdown",
      "source": [
        "# Perform Prediction"
      ],
      "metadata": {
        "id": "6nTwytgMBUBI"
      }
    },
    {
      "cell_type": "code",
      "source": [
        "# Make predictions\n",
        "y_pred = cnn.predict(X_test)\n",
        "\n",
        "# Calculate performance metrics\n",
        "accuracy = accuracy_score(y_test, y_pred)\n",
        "precision = precision_score(y_test, y_pred, average='weighted')\n",
        "recall = recall_score(y_test, y_pred, average='weighted')\n",
        "\n",
        "print(f\"Accuracy: {accuracy:.4f}\")\n",
        "print(f\"Precision: {precision:.4f}\")\n",
        "print(f\"Recall: {recall:.4f}\")"
      ],
      "metadata": {
        "colab": {
          "base_uri": "https://localhost:8080/"
        },
        "id": "ZY7eurT3BjLo",
        "outputId": "35bd9678-5052-4ffb-a887-03f78acc2e95"
      },
      "execution_count": null,
      "outputs": [
        {
          "output_type": "stream",
          "name": "stdout",
          "text": [
            "Accuracy: 0.9667\n",
            "Precision: 0.9682\n",
            "Recall: 0.9667\n"
          ]
        }
      ]
    },
    {
      "cell_type": "markdown",
      "source": [
        "# Define PyTorch CNN Model"
      ],
      "metadata": {
        "id": "ckLpwH8MDyaa"
      }
    },
    {
      "cell_type": "code",
      "source": [
        "class PyTorchCNN(nn.Module):\n",
        "    def __init__(self):\n",
        "        super(PyTorchCNN, self).__init__()\n",
        "\n",
        "        # First convolutional layer: 1 input channel → 4 output channels, 3x3 kernel with padding=1\n",
        "        self.conv1 = nn.Conv2d(in_channels=1, out_channels=4, kernel_size=3, padding=1)\n",
        "        self.relu1 = nn.ReLU()\n",
        "        self.pool = nn.MaxPool2d(kernel_size=2, stride=2)  # Reduces spatial dimensions by 2 (2x2 pooling)\n",
        "\n",
        "        # Second convolutional layer: 4 input channels → 8 output channels, 3x3 kernel with padding=1\n",
        "        self.conv2 = nn.Conv2d(in_channels=4, out_channels=8, kernel_size=3, padding=1)\n",
        "        self.relu2 = nn.ReLU()\n",
        "\n",
        "        # Flatten layer to reshape 2D feature maps into a 1D feature vector\n",
        "        self.flatten = nn.Flatten()\n",
        "        # Fully connected (dense) layer: Takes input of size (8 * 2 * 2) and outputs 10 class scores\n",
        "        self.fc = nn.Linear(in_features=8 * 2 * 2, out_features=10)\n",
        "\n",
        "    def forward(self, x):\n",
        "        x = self.pool(self.relu1(self.conv1(x)))  # First conv layer → ReLU → MaxPool\n",
        "        x = self.pool(self.relu2(self.conv2(x)))  # Second conv layer → ReLU → MaxPool\n",
        "        x = self.flatten(x)  # Flatten the feature maps to a vector\n",
        "        x = self.fc(x)  # Fully connected layer for classification\n",
        "        return x\n"
      ],
      "metadata": {
        "id": "148AfXcdDxs3"
      },
      "execution_count": null,
      "outputs": []
    },
    {
      "cell_type": "code",
      "source": [
        "# Printing model summary\n",
        "from torchsummary import summary\n",
        "device = 'cuda' if torch.cuda.is_available() else 'cpu'\n",
        "model_to_analyse = PyTorchCNN().to(device)\n",
        "print(model_to_analyse)\n",
        "\n",
        "summary(model_to_analyse, (1, 8, 8))"
      ],
      "metadata": {
        "colab": {
          "base_uri": "https://localhost:8080/"
        },
        "id": "wEhQGHQysab8",
        "outputId": "991a17f9-5895-4ea5-bc79-75bb777a7aff"
      },
      "execution_count": null,
      "outputs": [
        {
          "output_type": "stream",
          "name": "stdout",
          "text": [
            "PyTorchCNN(\n",
            "  (conv1): Conv2d(1, 4, kernel_size=(3, 3), stride=(1, 1), padding=(1, 1))\n",
            "  (relu1): ReLU()\n",
            "  (pool): MaxPool2d(kernel_size=2, stride=2, padding=0, dilation=1, ceil_mode=False)\n",
            "  (conv2): Conv2d(4, 8, kernel_size=(3, 3), stride=(1, 1), padding=(1, 1))\n",
            "  (relu2): ReLU()\n",
            "  (flatten): Flatten(start_dim=1, end_dim=-1)\n",
            "  (fc): Linear(in_features=32, out_features=10, bias=True)\n",
            ")\n",
            "----------------------------------------------------------------\n",
            "        Layer (type)               Output Shape         Param #\n",
            "================================================================\n",
            "            Conv2d-1              [-1, 4, 8, 8]              40\n",
            "              ReLU-2              [-1, 4, 8, 8]               0\n",
            "         MaxPool2d-3              [-1, 4, 4, 4]               0\n",
            "            Conv2d-4              [-1, 8, 4, 4]             296\n",
            "              ReLU-5              [-1, 8, 4, 4]               0\n",
            "         MaxPool2d-6              [-1, 8, 2, 2]               0\n",
            "           Flatten-7                   [-1, 32]               0\n",
            "            Linear-8                   [-1, 10]             330\n",
            "================================================================\n",
            "Total params: 666\n",
            "Trainable params: 666\n",
            "Non-trainable params: 0\n",
            "----------------------------------------------------------------\n",
            "Input size (MB): 0.00\n",
            "Forward/backward pass size (MB): 0.01\n",
            "Params size (MB): 0.00\n",
            "Estimated Total Size (MB): 0.01\n",
            "----------------------------------------------------------------\n"
          ]
        }
      ]
    },
    {
      "cell_type": "markdown",
      "source": [
        "# Train PyTorch CNN Model"
      ],
      "metadata": {
        "id": "z9I9XNZUEWUB"
      }
    },
    {
      "cell_type": "code",
      "source": [
        "# Convert dataset to PyTorch tensors\n",
        "X_train = X_train.reshape(-1, 1, 8, 8).astype(np.float32)\n",
        "X_val = X_val.reshape(-1, 1, 8, 8).astype(np.float32)\n",
        "X_test = X_test.reshape(-1, 1, 8, 8).astype(np.float32)\n",
        "X_train = torch.from_numpy(X_train)\n",
        "X_val = torch.from_numpy(X_val)\n",
        "X_test = torch.from_numpy(X_test)\n",
        "\n",
        "y_train_encoded = torch.from_numpy(y_train_encoded).float()\n",
        "y_val_encoded = torch.from_numpy(y_val_encoded).float()"
      ],
      "metadata": {
        "id": "oFHtnQQSL2ZH"
      },
      "execution_count": null,
      "outputs": []
    },
    {
      "cell_type": "code",
      "source": [
        "#Initialize Model, Optimizer and Loss Function\n",
        "model = PyTorchCNN()\n",
        "optimizer = optim.SGD(model.parameters(), lr=0.001)\n",
        "criterion = nn.CrossEntropyLoss()"
      ],
      "metadata": {
        "id": "9Hx51ks6MGSK"
      },
      "execution_count": null,
      "outputs": []
    },
    {
      "cell_type": "code",
      "source": [
        "# Training loop\n",
        "train_losses = []\n",
        "val_losses = []\n",
        "epochs = 100\n",
        "for epoch in range(epochs):\n",
        "    model.train()\n",
        "    epoch_train_loss = 0\n",
        "    for i in range(len(X_train)):\n",
        "        x = X_train[i].unsqueeze(0)\n",
        "        y = y_train_encoded[i].unsqueeze(0)\n",
        "        optimizer.zero_grad()\n",
        "        output = model(x)\n",
        "        loss = criterion(output, y)\n",
        "        loss.backward()\n",
        "        optimizer.step()\n",
        "        epoch_train_loss += loss.item()\n",
        "    train_losses.append(epoch_train_loss / len(X_train))\n",
        "\n",
        "    model.eval()\n",
        "    epoch_val_loss = 0\n",
        "    with torch.no_grad():\n",
        "        for i in range(len(X_val)):\n",
        "            x = X_val[i].unsqueeze(0)\n",
        "            y = y_val_encoded[i].unsqueeze(0)\n",
        "            output = model(x)\n",
        "            loss = criterion(output, y)\n",
        "            epoch_val_loss += loss.item()\n",
        "    val_losses.append(epoch_val_loss / len(X_val))\n",
        "\n",
        "    if epoch % 10 == 0:\n",
        "        print(f\"Epoch {epoch}, Train Loss: {train_losses[-1]:.4f}, Val Loss: {val_losses[-1]:.4f}\")\n"
      ],
      "metadata": {
        "colab": {
          "base_uri": "https://localhost:8080/"
        },
        "id": "m79dsxIzLVE3",
        "outputId": "8b60e74a-4261-40bc-fdfa-9d8baf2bd250"
      },
      "execution_count": null,
      "outputs": [
        {
          "output_type": "stream",
          "name": "stdout",
          "text": [
            "Epoch 0, Train Loss: 1.6809, Val Loss: 1.0732\n",
            "Epoch 10, Train Loss: 0.0931, Val Loss: 0.1935\n",
            "Epoch 20, Train Loss: 0.0378, Val Loss: 0.3303\n",
            "Epoch 30, Train Loss: 0.0146, Val Loss: 0.1431\n",
            "Epoch 40, Train Loss: 0.0057, Val Loss: 0.1455\n",
            "Epoch 50, Train Loss: 0.0035, Val Loss: 0.1556\n",
            "Epoch 60, Train Loss: 0.0023, Val Loss: 0.1593\n",
            "Epoch 70, Train Loss: 0.0018, Val Loss: 0.1611\n",
            "Epoch 80, Train Loss: 0.0014, Val Loss: 0.1616\n",
            "Epoch 90, Train Loss: 0.0011, Val Loss: 0.1629\n"
          ]
        }
      ]
    },
    {
      "cell_type": "markdown",
      "source": [
        "# Plot Training and Validation Losses"
      ],
      "metadata": {
        "id": "BmKhiLyoEuck"
      }
    },
    {
      "cell_type": "code",
      "source": [
        "# Plot training and validation losses\n",
        "plt.plot(train_losses, label='Training Loss')\n",
        "plt.plot(val_losses, label='Validation Loss')\n",
        "plt.xlabel('Epoch')\n",
        "plt.ylabel('Loss')\n",
        "plt.title('Training and Validation Losses')\n",
        "plt.legend()\n",
        "plt.show()"
      ],
      "metadata": {
        "colab": {
          "base_uri": "https://localhost:8080/",
          "height": 472
        },
        "id": "n2c6vesxEtu-",
        "outputId": "57794479-812b-4a52-dd73-b0ca36104473"
      },
      "execution_count": null,
      "outputs": [
        {
          "output_type": "display_data",
          "data": {
            "text/plain": [
              "<Figure size 640x480 with 1 Axes>"
            ],
            "image/png": "[encoded data removed]"
          },
          "metadata": {}
        }
      ]
    },
    {
      "cell_type": "markdown",
      "source": [
        "# Evaluate PyTorch Model"
      ],
      "metadata": {
        "id": "beL6FZFpFga5"
      }
    },
    {
      "cell_type": "code",
      "source": [
        "model.eval()\n",
        "with torch.no_grad():\n",
        "    y_pred = model(X_test).argmax(dim=1).numpy()\n",
        "\n",
        "accuracy = accuracy_score(y_test, y_pred)\n",
        "precision = precision_score(y_test, y_pred, average='weighted')\n",
        "recall = recall_score(y_test, y_pred, average='weighted')\n",
        "\n",
        "print(f\"Accuracy: {accuracy:.4f}\")\n",
        "print(f\"Precision: {precision:.4f}\")\n",
        "print(f\"Recall: {recall:.4f}\")"
      ],
      "metadata": {
        "colab": {
          "base_uri": "https://localhost:8080/"
        },
        "id": "Z7v5IiIQFjkc",
        "outputId": "3aaa48bd-9e51-4066-df43-b480f9682428"
      },
      "execution_count": null,
      "outputs": [
        {
          "output_type": "stream",
          "name": "stdout",
          "text": [
            "Accuracy: 0.9889\n",
            "Precision: 0.9893\n",
            "Recall: 0.9889\n"
          ]
        }
      ]
    },
    {
      "cell_type": "code",
      "source": [],
      "metadata": {
        "id": "kZHx8Vlls12K"
      },
      "execution_count": null,
      "outputs": []
    }
  ]
}